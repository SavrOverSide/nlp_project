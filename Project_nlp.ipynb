{
 "cells": [
  {
   "cell_type": "code",
   "execution_count": 1,
   "id": "96f8ba84-ef74-4c90-8347-ca23adb01975",
   "metadata": {},
   "outputs": [],
   "source": [
    "%load_ext autoreload\n",
    "%autoreload 2"
   ]
  },
  {
   "cell_type": "code",
   "execution_count": 61,
   "id": "276f96d9-8118-4b24-9c42-071e58988892",
   "metadata": {},
   "outputs": [],
   "source": [
    "import json\n",
    "\n",
    "import numpy as np\n",
    "import pandas as pd\n",
    "from typing import Tuple\n",
    "import matplotlib.pyplot as plt\n",
    "\n",
    "#### Word2Vec\n",
    "import gensim\n",
    "from gensim.models import Word2Vec\n",
    "\n",
    "####\n",
    "import torch\n",
    "from torch.utils.data import DataLoader, TensorDataset\n",
    "import torch.nn.functional as F\n",
    "import torch.nn as nn\n",
    "import torchutils as tu\n",
    "from sklearn.model_selection import train_test_split\n",
    "from collections import Counter\n",
    "from nltk.corpus import stopwords\n",
    "stop_words = set(stopwords.words('english'))\n",
    "\n",
    "from torchmetrics.classification import BinaryAccuracy\n",
    "from src.rnn_preprocessing import (\n",
    "                                data_preprocessing, \n",
    "                                preprocess_single_string, \n",
    "                                padding, \n",
    "                                get_words_by_freq\n",
    "                                )\n",
    "from src.train_rnn import train_attention_lstm"
   ]
  },
  {
   "cell_type": "code",
   "execution_count": 62,
   "id": "dbb499e2-1580-478a-b719-f41d0713dc37",
   "metadata": {},
   "outputs": [
    {
     "name": "stdout",
     "output_type": "stream",
     "text": [
      "4.3.2\n"
     ]
    }
   ],
   "source": [
    "# Лучше всего установить такую же версию\n",
    "print(gensim.__version__)"
   ]
  },
  {
   "cell_type": "code",
   "execution_count": 63,
   "id": "da6d9566-f6ae-44bf-98f2-35bc8722a0c8",
   "metadata": {},
   "outputs": [],
   "source": [
    "# Укажите путь к вашему .jsonl файлу\n",
    "file_path = '/home/savr/nlp_project/healthcare_facilities_reviews.jsonl'\n",
    "\n",
    "# Чтение файла и загрузка данных в список\n",
    "data = []\n",
    "with open(file_path, 'r') as f:\n",
    "    for line in f:\n",
    "        data.append(json.loads(line))\n",
    "\n",
    "# Преобразование списка словарей в DataFrame\n",
    "df = pd.DataFrame(data)\n",
    "reviews = df['content'].tolist()\n",
    "preprocessed = [data_preprocessing(review) for review in reviews]"
   ]
  },
  {
   "cell_type": "code",
   "execution_count": 64,
   "id": "3d5932c8-c7f8-48c6-81a3-02e731d270d1",
   "metadata": {},
   "outputs": [
    {
     "data": {
      "text/plain": [
       "'почему мы простые граждане должны быть в ответе за то что в данной поликлиники не было воды мало того что запись идет день в день с часов а по телефону ли по непонятной причине принять заявку тоже отказываются так еще и наплевательское отношение к людям в регистратуре легче всего видите ли отфудболить пациента на следующий день и никакого решения взамен какоето безразличие и непонимание проблем детей такие люди просто не должны находиться на данных местах так как это в первую очередь социальная ответственность тем более перед детьми'"
      ]
     },
     "execution_count": 64,
     "metadata": {},
     "output_type": "execute_result"
    }
   ],
   "source": [
    "preprocessed[10]"
   ]
  },
  {
   "cell_type": "code",
   "execution_count": 65,
   "id": "1c6c1145-02d9-4d33-8931-5adf0dc5d0eb",
   "metadata": {},
   "outputs": [
    {
     "data": {
      "text/plain": [
       "[('сотрудница', 201),\n",
       " ('прав', 201),\n",
       " ('методы', 201),\n",
       " ('спас', 201),\n",
       " ('внизу', 201),\n",
       " ('страшное', 201),\n",
       " ('письмо', 201),\n",
       " ('исследований', 201),\n",
       " ('младший', 201),\n",
       " ('беременные', 201)]"
      ]
     },
     "execution_count": 65,
     "metadata": {},
     "output_type": "execute_result"
    }
   ],
   "source": [
    "# Анализируем частоты слов и выбираем только те, которые встречаются чаще порога\n",
    "corpus = [word for text in preprocessed for word in text.split()]\n",
    "sorted_words = Counter(corpus).most_common()\n",
    "sorted_words = get_words_by_freq(sorted_words, 200)\n",
    "sorted_words[-10:]"
   ]
  },
  {
   "cell_type": "code",
   "execution_count": 66,
   "id": "f88157e1-e993-42cb-82ae-fa6e113e918b",
   "metadata": {},
   "outputs": [],
   "source": [
    "# Создаем словарь слово: индекс\n",
    "vocab_to_int = {w:i+1 for i, (w,c) in enumerate(sorted_words)}\n",
    "# vocab_to_int"
   ]
  },
  {
   "cell_type": "code",
   "execution_count": 67,
   "id": "955a4a1f-468d-4768-abcd-a032753398af",
   "metadata": {},
   "outputs": [],
   "source": [
    "import json \n",
    "with open('vocab2int.json', 'w') as f:\n",
    "    json.dump(vocab_to_int, f)"
   ]
  },
  {
   "cell_type": "code",
   "execution_count": 68,
   "id": "cfe9c308-1479-44bf-81f9-bbdf56ffd3b5",
   "metadata": {},
   "outputs": [],
   "source": [
    "stop_words_txt = ','.join([str(i) for i in stop_words])\n",
    "with open('stop_words.txt', 'w') as f:\n",
    "    f.write(stop_words_txt)"
   ]
  },
  {
   "cell_type": "code",
   "execution_count": 69,
   "id": "9434a36e-6d0d-4f69-9054-637a7632965c",
   "metadata": {},
   "outputs": [
    {
     "data": {
      "text/plain": [
       "[('и', 1),\n",
       " ('в', 2),\n",
       " ('не', 3),\n",
       " ('на', 4),\n",
       " ('что', 5),\n",
       " ('я', 6),\n",
       " ('с', 7),\n",
       " ('к', 8),\n",
       " ('а', 9),\n",
       " ('у', 10)]"
      ]
     },
     "execution_count": 69,
     "metadata": {},
     "output_type": "execute_result"
    }
   ],
   "source": [
    "list(vocab_to_int.items())[:10]"
   ]
  },
  {
   "cell_type": "code",
   "execution_count": 70,
   "id": "fae4f6e6-932e-43b6-83dd-dbd032ab3fbc",
   "metadata": {},
   "outputs": [
    {
     "name": "stdout",
     "output_type": "stream",
     "text": [
      "[80, 20, 11, 850, 648, 389, 1231, 11, 98, 559, 7, 371, 874, 802, 613, 18, 12, 1006, 1, 6, 1758, 4, 850, 95, 1, 1145, 369, 58, 211, 1, 2132, 13, 349]\n",
      "огромное спасибо за чудесное удаление двух зубов мудрости за мгновение доктор матвеев профессионал с большой буквы боялась страшно но все заняло реально секунд и я согласилась на удаление сразу и второго зуба без боли и страха очень рекомендую\n"
     ]
    }
   ],
   "source": [
    "# Конвертируем слова в индексы\n",
    "reviews_int = []\n",
    "for text in preprocessed:\n",
    "    r = [vocab_to_int[word] for word in text.split() if vocab_to_int.get(word)]\n",
    "    reviews_int.append(r)\n",
    "print([i for i in reviews_int[0]])\n",
    "print(preprocessed[0])"
   ]
  },
  {
   "cell_type": "code",
   "execution_count": 71,
   "id": "0beb3358-cad4-461b-86c2-d608f055286b",
   "metadata": {},
   "outputs": [
    {
     "name": "stdout",
     "output_type": "stream",
     "text": [
      "Total reviews: 70597\n",
      "Random review for word2vec: ['я', 'лечилась', 'в', 'в', 'августе', 'того', 'года', 'мне', 'полностью', 'сделали', 'зубов', 'скажу', 'сразу', 'что', 'во', 'всех', 'остальных', 'клиниках', 'мне', 'ставить', 'коронки', 'и', 'даже', 'никто', 'не', 'хотел', 'мне', 'помочь', 'но', 'мне', 'очень', 'повезло', 'что', 'моим', 'доктором', 'оказалась', 'наталья', 'михайловна', 'врач', 'от', 'бога', 'специалист', 'я', 'до', 'сих', 'пор', 'хожу', 'к', 'ней', 'лечиться', 'и', 'очень', 'довольна', 'спасибо', 'ей', 'огромное', 'хожу', 'с', 'улыбкой', 'да', 'конечно', 'цены', 'в', 'данной', 'организации', 'не', 'самые', 'маленькие', 'но', 'мне', 'все', 'рано', 'обошлось', 'дешевле', 'чем', 'бы', 'мне', 'поставили', 'коронки', 'и', 'вообще', 'за', 'такую', 'работу', 'можно', 'заплатить', 'у', 'меня', 'с', 'работы', 'многие', 'девушки', 'обращались', 'с', 'наталье', 'михайловне', 'и', 'все', 'были', 'довольны', 'спасибо', 'вам']\n"
     ]
    }
   ],
   "source": [
    "w2v_input = []\n",
    "for review in preprocessed:\n",
    "    cur_review = []\n",
    "    for word in review.split():\n",
    "        if vocab_to_int.get(word):\n",
    "            cur_review.append(word)\n",
    "    w2v_input.append(cur_review)\n",
    "print(f'Total reviews: {len(w2v_input)}')\n",
    "print(f'Random review for word2vec: {w2v_input[np.random.randint(0, 50000)]}')"
   ]
  },
  {
   "cell_type": "code",
   "execution_count": 72,
   "id": "46575ff8-96f8-4c51-a5d0-8cb0a93f82e6",
   "metadata": {},
   "outputs": [],
   "source": [
    "VOCAB_SIZE = len(vocab_to_int) + 1  # размер словаря вместе с токеном padding\n",
    "EMBEDDING_DIM = 64 # embedding_dim "
   ]
  },
  {
   "cell_type": "code",
   "execution_count": 73,
   "id": "d6c4b429-e32f-4daa-9e9b-9dfbff798309",
   "metadata": {},
   "outputs": [
    {
     "name": "stdout",
     "output_type": "stream",
     "text": [
      "Total reviews: 70597\n"
     ]
    }
   ],
   "source": [
    "# Обучим Word2Vec\n",
    "wv = Word2Vec(\n",
    "    vector_size=EMBEDDING_DIM # размерность вектора для слова\n",
    "    )\n",
    "# Сначала word2vec составляет словарь\n",
    "wv.build_vocab(w2v_input)\n",
    "print(f'Total reviews: {wv.corpus_count}')"
   ]
  },
  {
   "cell_type": "code",
   "execution_count": 74,
   "id": "44faa574-7e94-4f1c-a063-24df8bd35fc5",
   "metadata": {},
   "outputs": [
    {
     "data": {
      "text/plain": [
       "(39359172, 50573400)"
      ]
     },
     "execution_count": 74,
     "metadata": {},
     "output_type": "execute_result"
    }
   ],
   "source": [
    "# Далее обучаем\n",
    "wv.train(\n",
    "    corpus_iterable=w2v_input, \n",
    "    total_examples=wv.corpus_count, \n",
    "    epochs=10\n",
    "    )"
   ]
  },
  {
   "cell_type": "code",
   "execution_count": 75,
   "id": "ece70155-6611-4696-a244-e3737e498e3d",
   "metadata": {},
   "outputs": [
    {
     "name": "stdout",
     "output_type": "stream",
     "text": [
      "Number of words x EMEDDING_DIM: (3305, 64)\n"
     ]
    }
   ],
   "source": [
    "# Создаем слой эмбеддинга\n",
    "embedding_matrix = np.zeros((VOCAB_SIZE, EMBEDDING_DIM))\n",
    "\n",
    "# Бежим по всем словам словаря: если слово есть в word2vec, \n",
    "# достаем его вектор; если слова нет, то распечатываем его и пропускаем\n",
    "for word, i in vocab_to_int.items():\n",
    "    try:\n",
    "        embedding_vector = wv.wv[word]\n",
    "        embedding_matrix[i] = embedding_vector\n",
    "    except KeyError as e:\n",
    "        pass\n",
    "        print(f'{e}: word: {word}')\n",
    "        \n",
    "# Создаем предобученный эмбеддинг – этот слой в нашей сети обучаться не будет\n",
    "embedding_layer = nn.Embedding.from_pretrained(torch.FloatTensor(embedding_matrix))\n",
    "print(f'Number of words x EMEDDING_DIM: {embedding_matrix.shape}')"
   ]
  },
  {
   "cell_type": "code",
   "execution_count": 76,
   "id": "e4051ad4-52b4-4548-be39-330223cefd2f",
   "metadata": {},
   "outputs": [
    {
     "name": "stdout",
     "output_type": "stream",
     "text": [
      "[ 127   20 2025 2600    6   13  409  422  968   61    7  371  874  311\n",
      " 1116   93  190 1259 2487  369    2  154   14   23 2710    2  164  661\n",
      "  317    6  358    1   14   17    3 1981 2025 2600   32  260    2  184\n",
      "   12 1267  397   85   32  895    1   58  187  280  247  278  380  206\n",
      "    1    2   90 3234  876 1637 2875   12]\n"
     ]
    }
   ],
   "source": [
    "# Применяем padding\n",
    "padded = padding(review_int=reviews_int, seq_len=64)\n",
    "print(padded[5])"
   ]
  },
  {
   "cell_type": "code",
   "execution_count": 77,
   "id": "4f0360b4-ec11-419a-842b-4fff7275d680",
   "metadata": {},
   "outputs": [],
   "source": [
    "# train_test split + label encoding \n",
    "X_train, X_valid, y_train, y_valid = train_test_split(\n",
    "    np.array(padded),\n",
    "    pd.get_dummies(\n",
    "        df['sentiment'], \n",
    "        drop_first=True\n",
    "    ).values.astype('int'), test_size=0.2, random_state=1)"
   ]
  },
  {
   "cell_type": "code",
   "execution_count": 78,
   "id": "90c9d214-7923-4348-8781-aef6d2283eb4",
   "metadata": {},
   "outputs": [],
   "source": [
    "BATCH_SIZE = 64\n",
    "\n",
    "train_data = TensorDataset(torch.from_numpy(X_train), torch.from_numpy(y_train))\n",
    "valid_data = TensorDataset(torch.from_numpy(X_valid), torch.from_numpy(y_valid))\n",
    "train_loader = DataLoader(train_data, shuffle=True, batch_size=BATCH_SIZE)\n",
    "valid_loader = DataLoader(valid_data, shuffle=True, batch_size=BATCH_SIZE)"
   ]
  },
  {
   "cell_type": "code",
   "execution_count": 79,
   "id": "2b3cfe3a-b522-4f2f-b704-fa9de3120ac1",
   "metadata": {},
   "outputs": [
    {
     "name": "stdout",
     "output_type": "stream",
     "text": [
      "Sample input size: BATCH_SIZE x SEQ_LEN torch.Size([64, 64])\n",
      "Sample input: \n",
      " tensor([[   0,    0,    0,  ...,  127,   31,   20],\n",
      "        [   6,   44, 2593,  ...,   14, 1044,  308],\n",
      "        [  76, 1573,  407,  ...,    6,    2, 1740],\n",
      "        ...,\n",
      "        [   0,    0,    0,  ..., 2547,   14,   13],\n",
      "        [ 124,    2,  164,  ...,    1, 3268,    6],\n",
      "        [   0,    0,    0,  ...,  294,   20,   31]])\n",
      "Sample input: \n",
      " tensor([[1],\n",
      "        [0],\n",
      "        [1],\n",
      "        [1],\n",
      "        [0],\n",
      "        [1],\n",
      "        [1],\n",
      "        [1],\n",
      "        [1],\n",
      "        [1]])\n"
     ]
    }
   ],
   "source": [
    "# посмотрим, что внутри\n",
    "dataiter = iter(train_loader)\n",
    "sample_x, sample_y = next(dataiter)\n",
    "\n",
    "print('Sample input size: BATCH_SIZE x SEQ_LEN', sample_x.size()) # batch_size, seq_length\n",
    "print('Sample input: \\n', sample_x)\n",
    "print('Sample input: \\n', sample_y[:10])"
   ]
  },
  {
   "cell_type": "code",
   "execution_count": 21,
   "id": "51cb6453-e5b1-498e-8852-90c538f73389",
   "metadata": {},
   "outputs": [],
   "source": [
    "device = 'cuda' if torch.cuda.is_available() else 'cpu'"
   ]
  },
  {
   "cell_type": "code",
   "execution_count": 80,
   "id": "43d89410-f2f7-4fd8-9b37-61a57ddd528e",
   "metadata": {},
   "outputs": [],
   "source": [
    "HIDDEN_SIZE = 32"
   ]
  },
  {
   "cell_type": "code",
   "execution_count": 81,
   "id": "4a95f010-4f55-4fd5-b1f4-8eec5fa113b2",
   "metadata": {},
   "outputs": [
    {
     "data": {
      "text/plain": [
       "torch.Size([64, 128])"
      ]
     },
     "execution_count": 81,
     "metadata": {},
     "output_type": "execute_result"
    }
   ],
   "source": [
    "class ConcatAttention(nn.Module):\n",
    "    def __init__(\n",
    "            self, \n",
    "            hidden_size: int = HIDDEN_SIZE\n",
    "            ) -> None:\n",
    "        \n",
    "        super().__init__()\n",
    "        self.hidden_size = hidden_size\n",
    "        self.linear = nn.Linear(self.hidden_size, self.hidden_size)\n",
    "        self.align  = nn.Linear(self.hidden_size * 2, self.hidden_size)\n",
    "        self.tanh   = nn.Tanh()\n",
    "\n",
    "    def forward(\n",
    "            self, \n",
    "            lstm_outputs: torch.Tensor, # BATCH_SIZE x SEQ_LEN x HIDDEN_SIZE\n",
    "            final_hidden: torch.Tensor  # BATCH_SIZE x HIDDEN_SIZE\n",
    "            ) -> Tuple[torch.Tensor, torch.Tensor]:\n",
    "        \n",
    "        att_weights = self.linear(lstm_outputs)\n",
    "        # print(f'After linear: {att_weights.shape, final_hidden.unsqueeze(2).shape}')\n",
    "        att_weights = torch.bmm(att_weights, final_hidden.unsqueeze(2))\n",
    "        # print(f'After bmm: {att_weights.shape}')\n",
    "        att_weights = F.softmax(att_weights.squeeze(2), dim=1)\n",
    "        # print(f'After softmax: {att_weights.shape}')\n",
    "        cntxt       = torch.bmm(lstm_outputs.transpose(1, 2), att_weights.unsqueeze(2))\n",
    "        # print(f'Context: {cntxt.shape}')\n",
    "        concatted   = torch.cat((cntxt, final_hidden.unsqueeze(2)), dim=1)\n",
    "        # print(f'Concatted: {concatted.shape}')\n",
    "        att_hidden  = self.tanh(self.align(concatted.squeeze(-1)))\n",
    "        # print(f'Att Hidden: {att_hidden.shape}')\n",
    "        return att_hidden, att_weights\n",
    "\n",
    "# Test on random numbers\n",
    "ConcatAttention()(torch.randn(BATCH_SIZE, 128, HIDDEN_SIZE), torch.randn(BATCH_SIZE, HIDDEN_SIZE))[1].shape"
   ]
  },
  {
   "cell_type": "code",
   "execution_count": 82,
   "id": "c3628285-ee47-4c1b-be8e-6fc48f6adee8",
   "metadata": {},
   "outputs": [],
   "source": [
    "attention = ConcatAttention(HIDDEN_SIZE)"
   ]
  },
  {
   "cell_type": "code",
   "execution_count": 83,
   "id": "5a4954a2-2f5b-42b6-993c-6d33522cee32",
   "metadata": {},
   "outputs": [
    {
     "name": "stdout",
     "output_type": "stream",
     "text": [
      "=======================================================\n",
      "Layer       Kernel       Output      Params       FLOPs\n",
      "=======================================================\n",
      "0_linear   [32, 32]   [16, 32, 32]    1,056   1,032,192\n",
      "1_align    [64, 32]       [16, 32]    2,080      65,024\n",
      "2_tanh            -       [16, 32]        0       2,560\n",
      "=======================================================\n",
      "Total params: 3,136\n",
      "Trainable params: 3,136\n",
      "Non-trainable params: 0\n",
      "Total FLOPs: 1,099,776 / 1.10 MFLOPs\n",
      "-------------------------------------------------------\n",
      "Input size (MB): 0.06\n",
      "Forward/backward pass size (MB): 0.13\n",
      "Params size (MB): 0.01\n",
      "Estimated Total Size (MB): 0.21\n",
      "=======================================================\n"
     ]
    }
   ],
   "source": [
    "tu.get_model_summary(attention, torch.randn(16, 32, HIDDEN_SIZE), torch.randn(16, HIDDEN_SIZE))"
   ]
  },
  {
   "cell_type": "code",
   "execution_count": 84,
   "id": "9478950c-ab43-4a66-95e9-a2d8cf8532e3",
   "metadata": {},
   "outputs": [],
   "source": [
    "SEQ_LEN = 32"
   ]
  },
  {
   "cell_type": "code",
   "execution_count": 85,
   "id": "fd641319-e957-4f2c-ac20-87737c6e5e25",
   "metadata": {},
   "outputs": [],
   "source": [
    "class LSTMConcatAttention(nn.Module):\n",
    "    def __init__(self) -> None:\n",
    "        super().__init__()\n",
    "\n",
    "        # self.embedding = nn.Embedding(VOCAB_SIZE, EMBEDDING_DIM)\n",
    "        self.embedding = embedding_layer\n",
    "        self.lstm = nn.LSTM(EMBEDDING_DIM, HIDDEN_SIZE, batch_first=True)\n",
    "        self.attn = ConcatAttention(HIDDEN_SIZE)\n",
    "        self.clf = nn.Sequential(\n",
    "            nn.Linear(HIDDEN_SIZE, 128),\n",
    "            nn.Dropout(),\n",
    "            nn.Tanh(),\n",
    "            nn.Linear(128, 1)\n",
    "        )\n",
    "    \n",
    "    def forward(self, x):\n",
    "        embeddings = self.embedding(x)\n",
    "        outputs, (h_n, _) = self.lstm(embeddings)\n",
    "        att_hidden, att_weights = self.attn(outputs, h_n.squeeze(0))\n",
    "        out = self.clf(att_hidden)\n",
    "        return out, att_weights"
   ]
  },
  {
   "cell_type": "code",
   "execution_count": 86,
   "id": "2072c697-d514-483a-8978-b4d6d7f3f949",
   "metadata": {},
   "outputs": [],
   "source": [
    "model_concat = LSTMConcatAttention()\n",
    "DEVICE='cuda'\n",
    "criterion = nn.BCEWithLogitsLoss()\n",
    "optimizer_concat = torch.optim.RMSprop(model_concat.parameters(), lr=0.001)\n",
    "\n",
    "metric = BinaryAccuracy() #BinaryAccuracy().to(device)"
   ]
  },
  {
   "cell_type": "code",
   "execution_count": 30,
   "id": "fbc1b525-03a5-4247-899f-dc48a217d273",
   "metadata": {},
   "outputs": [
    {
     "name": "stdout",
     "output_type": "stream",
     "text": [
      "Epoch 1\n",
      "train_loss : 0.2429 val_loss : 0.2355\n",
      "train_accuracy : 0.90 val_accuracy : 0.91\n",
      "==================================================\n",
      "Epoch 2\n",
      "train_loss : 0.2060 val_loss : 0.2221\n",
      "train_accuracy : 0.92 val_accuracy : 0.92\n",
      "==================================================\n",
      "Epoch 3\n",
      "train_loss : 0.1895 val_loss : 0.2417\n",
      "train_accuracy : 0.93 val_accuracy : 0.91\n",
      "==================================================\n",
      "Epoch 4\n",
      "train_loss : 0.1775 val_loss : 0.2205\n",
      "train_accuracy : 0.93 val_accuracy : 0.92\n",
      "==================================================\n",
      "Epoch 5\n",
      "train_loss : 0.1662 val_loss : 0.2133\n",
      "train_accuracy : 0.94 val_accuracy : 0.92\n",
      "==================================================\n",
      "Epoch 6\n",
      "train_loss : 0.1566 val_loss : 0.2505\n",
      "train_accuracy : 0.94 val_accuracy : 0.91\n",
      "==================================================\n",
      "Epoch 7\n",
      "train_loss : 0.1481 val_loss : 0.2182\n",
      "train_accuracy : 0.95 val_accuracy : 0.92\n",
      "==================================================\n",
      "Epoch 8\n",
      "train_loss : 0.1401 val_loss : 0.2377\n",
      "train_accuracy : 0.95 val_accuracy : 0.92\n",
      "==================================================\n",
      "Epoch 9\n",
      "train_loss : 0.1314 val_loss : 0.2446\n",
      "train_accuracy : 0.95 val_accuracy : 0.92\n",
      "==================================================\n",
      "Epoch 10\n",
      "train_loss : 0.1239 val_loss : 0.2513\n",
      "train_accuracy : 0.96 val_accuracy : 0.92\n",
      "==================================================\n"
     ]
    }
   ],
   "source": [
    "train_losses, val_losses, train_metric, val_metric, rnn_time = train_attention_lstm(\n",
    "    10, model_concat, train_loader, valid_loader, optimizer_concat, criterion, metric\n",
    ")"
   ]
  },
  {
   "cell_type": "code",
   "execution_count": 87,
   "id": "70398c28-3f58-433d-b5c9-0e142c88fea6",
   "metadata": {},
   "outputs": [],
   "source": [
    "vocab_to_int['<pad>'] = 0"
   ]
  },
  {
   "cell_type": "code",
   "execution_count": 88,
   "id": "7c6114d8-d445-4ec5-9eb3-790b4ab8f0d2",
   "metadata": {},
   "outputs": [],
   "source": [
    "int_to_vocab = {j:i for i, j in vocab_to_int.items()}"
   ]
  },
  {
   "cell_type": "code",
   "execution_count": 89,
   "id": "b9a5a7f1-a316-4319-8545-f0fdc792c88a",
   "metadata": {},
   "outputs": [],
   "source": [
    "def plot_and_predict(review: str, SEQ_LEN: int, model: nn.Module):\n",
    "    \"\"\"Predict class and draw word attention scores \n",
    "\n",
    "    Args:\n",
    "        review (str): Review text\n",
    "        SEQ_LEN (int): sequence length\n",
    "        model (nn.Module): trained model\n",
    "    \"\"\"\n",
    "    preprocessed = data_preprocessing(review) # preprocess string\n",
    "    inp = preprocess_single_string(review, SEQ_LEN, vocab_to_int)\n",
    "    model.eval()\n",
    "    with torch.inference_mode():\n",
    "        pred, att_scores = model(inp.long().unsqueeze(0))\n",
    "    plt.figure(figsize=(12, 4))\n",
    "    print(f'Prepocessed string: {preprocessed}')\n",
    "    print(f'Prediction {pred.sigmoid().item():.3f}')\n",
    "    print(max(att_scores.detach().cpu().numpy()[0]))\n",
    "    plt.bar(np.arange(len(inp)), att_scores.detach().cpu().numpy()[0])\n",
    "    plt.ylim(0, max(att_scores.detach().cpu().numpy()[0])+.2)\n",
    "    plt.xticks(\n",
    "        ticks = np.arange(len(inp)), \n",
    "        labels = [int_to_vocab[x.item()] for x in inp]\n",
    "        );\n",
    "    score_label_shift = len(inp)*.02\n",
    "    for x, y in zip(np.arange(len(inp)), att_scores.detach().cpu().numpy()[0]):\n",
    "        plt.text(x-score_label_shift, y+.005, s=f'{y:.2f}')\n"
   ]
  },
  {
   "cell_type": "code",
   "execution_count": 36,
   "id": "09c3a0f2-32c0-4c37-a106-61a5c3505c0f",
   "metadata": {},
   "outputs": [
    {
     "name": "stdout",
     "output_type": "stream",
     "text": [
      "Prepocessed string: лучшая клиника в которой я был\n",
      "Prediction 1.000\n",
      "0.42073405\n"
     ]
    },
    {
     "data": {
      "image/png": "[encoded data removed]",
      "text/plain": [
       "<Figure size 1200x400 with 1 Axes>"
      ]
     },
     "metadata": {},
     "output_type": "display_data"
    }
   ],
   "source": [
    "review = \"Лучшая клиника в которой я был\"\n",
    "plot_and_predict(\n",
    "    review = review, \n",
    "    SEQ_LEN=len(review.split()),\n",
    "    model = model_concat\n",
    ")"
   ]
  },
  {
   "cell_type": "code",
   "execution_count": null,
   "id": "05b6d130-4b0a-4a06-842d-8dbdb4ccbf42",
   "metadata": {},
   "outputs": [],
   "source": []
  },
  {
   "cell_type": "code",
   "execution_count": 40,
   "id": "2ab6f4aa-32c0-4082-a82e-d48425e368e4",
   "metadata": {},
   "outputs": [],
   "source": [
    "torch.save(model_concat.state_dict(), 'lstm_attention_weights.pt')"
   ]
  },
  {
   "cell_type": "code",
   "execution_count": null,
   "id": "70562bcf-eb43-4a90-a22c-b4b139ea07c8",
   "metadata": {},
   "outputs": [],
   "source": []
  },
  {
   "cell_type": "code",
   "execution_count": 91,
   "id": "c9284733-63d1-4a28-9403-979f83551ea2",
   "metadata": {},
   "outputs": [
    {
     "ename": "AttributeError",
     "evalue": "'list' object has no attribute 'unsqueeze'",
     "output_type": "error",
     "traceback": [
      "\u001b[0;31m---------------------------------------------------------------------------\u001b[0m",
      "\u001b[0;31mAttributeError\u001b[0m                            Traceback (most recent call last)",
      "Cell \u001b[0;32mIn[91], line 2\u001b[0m\n\u001b[1;32m      1\u001b[0m \u001b[38;5;28;01mwith\u001b[39;00m torch\u001b[38;5;241m.\u001b[39minference_mode():\n\u001b[0;32m----> 2\u001b[0m     out \u001b[38;5;241m=\u001b[39m model_concat(\u001b[43mpreprocessed\u001b[49m\u001b[38;5;241;43m.\u001b[39;49m\u001b[43munsqueeze\u001b[49m(\u001b[38;5;241m0\u001b[39m))\n",
      "\u001b[0;31mAttributeError\u001b[0m: 'list' object has no attribute 'unsqueeze'"
     ]
    }
   ],
   "source": [
    "with torch.inference_mode():\n",
    "    out = model_concat(preprocessed.unsqueeze(0))"
   ]
  },
  {
   "cell_type": "code",
   "execution_count": null,
   "id": "ee805551-ea5e-46ed-8037-75f31f09e9f3",
   "metadata": {},
   "outputs": [],
   "source": []
  },
  {
   "cell_type": "code",
   "execution_count": null,
   "id": "4fad3fec-d6fb-4fe0-8c60-962abadb92cd",
   "metadata": {},
   "outputs": [],
   "source": []
  },
  {
   "cell_type": "code",
   "execution_count": null,
   "id": "4da31ca9-281b-4c63-9168-d193fea19cf5",
   "metadata": {},
   "outputs": [],
   "source": []
  },
  {
   "cell_type": "code",
   "execution_count": null,
   "id": "c1081259-8ad6-4842-9df1-fef93ca6ccac",
   "metadata": {},
   "outputs": [],
   "source": []
  },
  {
   "cell_type": "code",
   "execution_count": null,
   "id": "07145b24-3e5e-44b4-b78f-2167d4211eb7",
   "metadata": {},
   "outputs": [],
   "source": []
  },
  {
   "cell_type": "code",
   "execution_count": null,
   "id": "dba9b7ea-6c73-4cf6-a3f7-e0daacf9fe7e",
   "metadata": {},
   "outputs": [],
   "source": []
  },
  {
   "cell_type": "code",
   "execution_count": null,
   "id": "8dc07ddf-433f-41bc-b6f3-e92d400a20b0",
   "metadata": {},
   "outputs": [],
   "source": []
  },
  {
   "cell_type": "code",
   "execution_count": null,
   "id": "0c70e945-4716-43c6-aaa4-dbe35b967d6b",
   "metadata": {},
   "outputs": [],
   "source": []
  }
 ],
 "metadata": {
  "kernelspec": {
   "display_name": "Python 3 (ipykernel)",
   "language": "python",
   "name": "python3"
  },
  "language_info": {
   "codemirror_mode": {
    "name": "ipython",
    "version": 3
   },
   "file_extension": ".py",
   "mimetype": "text/x-python",
   "name": "python",
   "nbconvert_exporter": "python",
   "pygments_lexer": "ipython3",
   "version": "3.10.14"
  }
 },
 "nbformat": 4,
 "nbformat_minor": 5
}
